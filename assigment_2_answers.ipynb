{
 "cells": [
  {
   "cell_type": "code",
   "execution_count": 1,
   "metadata": {},
   "outputs": [],
   "source": [
    "import numpy as np\n",
    "import matplotlib.pyplot as plt\n",
    "from scipy import stats"
   ]
  },
  {
   "cell_type": "code",
   "execution_count": 2,
   "metadata": {},
   "outputs": [],
   "source": [
    "### EXERCISE 1###. Suppose scores on exams in statistics are normally distributed with an unknown population mean and \n",
    "#a population standard deviation of 3 points. A random sample of 36 scores is taken and gives a sample mean (sample  mean score) of 68. \n",
    "#Find a confidence interval estimate for the population mean exam score (the mean score on all exams).\n",
    "\n",
    "# -Find a 90% confidence interval for the true (population) mean of statistics exam scores.\n",
    "\n",
    "#(--İstatistiklerdeki sınav puanlarının normalde bilinmeyen bir popülasyon ortalaması ve \n",
    "# 3 puanlık bir popülasyon standart sapması ile dağıtıldığını varsayalım. \n",
    "# 36 puanlık rastgele bir örnek alınır ve 68'lik bir örnek ortalama (örnek ortalama puan) verir.\n",
    "# Nüfus ortalama sınav puanı (tüm sınavlardaki ortalama puan) için bir güven aralığı tahmini bulun.\n",
    "\n",
    "# --İstatistik sınavı puanlarının gerçek (nüfus) ortalaması için %90'lık bir güven aralığı bulun.)"
   ]
  },
  {
   "cell_type": "code",
   "execution_count": 3,
   "metadata": {},
   "outputs": [
    {
     "name": "stdout",
     "output_type": "stream",
     "text": [
      "0.5\n"
     ]
    }
   ],
   "source": [
    "n=36                         #sample size\n",
    "sigma=3                     #population standard deviation (from past experiences)\n",
    "xbar=68                     #örneklem ortalaması\n",
    "sem = sigma / np.sqrt(n)   #standard error of the mean\n",
    "print(sem)"
   ]
  },
  {
   "cell_type": "code",
   "execution_count": 4,
   "metadata": {},
   "outputs": [
    {
     "name": "stderr",
     "output_type": "stream",
     "text": [
      "C:\\Users\\Tacettin\\AppData\\Local\\Temp\\ipykernel_16924\\1640335814.py:1: DeprecationWarning: Use of keyword argument `alpha` for method `interval` is deprecated. Use first positional argument or keyword argument `confidence` instead.\n",
      "  stats.norm.interval(alpha=0.90, loc=xbar, scale=sem)\n"
     ]
    },
    {
     "data": {
      "text/plain": [
       "(67.17757318652427, 68.82242681347573)"
      ]
     },
     "execution_count": 4,
     "metadata": {},
     "output_type": "execute_result"
    }
   ],
   "source": [
    "stats.norm.interval(alpha=0.90, loc=xbar, scale=sem)"
   ]
  },
  {
   "cell_type": "code",
   "execution_count": 5,
   "metadata": {},
   "outputs": [],
   "source": [
    "# 90% confidence interval\n",
    "#alpha= 1 - CI = 1- 0.90 =0.1\n",
    "#z_(alpha/2) = 1.645"
   ]
  },
  {
   "cell_type": "code",
   "execution_count": 6,
   "metadata": {},
   "outputs": [],
   "source": [
    "### EXERCISE 2###. What is the normal body temperature for healthy humans?\n",
    "#A random sample of 130 healthy human body temperatures provided by Allen Shoemaker7 yielded 98.25 degrees and \n",
    "#standard deviation 0.73 degrees. \n",
    "\n",
    "#Give a 99% confidence interval for the average body temperature of healthy people.\n",
    "\n",
    "#(--Sağlıklı insanlar için normal vücut ısısı nedir? Allen Shoemaker7 tarafından sağlanan 130 sağlıklı insan vücut sıcaklığından \n",
    "#rastgele bir örnek 98.25 derece ve standart sapma 0.73 derece verdi.\n",
    "\n",
    "#Sağlıklı insanların ortalama vücut ısısı için %99 güven aralığı verin.)"
   ]
  },
  {
   "cell_type": "code",
   "execution_count": 7,
   "metadata": {},
   "outputs": [
    {
     "name": "stdout",
     "output_type": "stream",
     "text": [
      "0.06402523540941313\n"
     ]
    }
   ],
   "source": [
    "n=130\n",
    "sigma=0.73\n",
    "xbar=98.25\n",
    "sem=sigma / np.sqrt(n)\n",
    "print(sem)"
   ]
  },
  {
   "cell_type": "code",
   "execution_count": 8,
   "metadata": {},
   "outputs": [
    {
     "name": "stderr",
     "output_type": "stream",
     "text": [
      "C:\\Users\\Tacettin\\AppData\\Local\\Temp\\ipykernel_16924\\3371804998.py:1: DeprecationWarning: Use of keyword argument `alpha` for method `interval` is deprecated. Use first positional argument or keyword argument `confidence` instead.\n",
      "  stats.norm.interval(alpha=0.99, loc=xbar, scale=sem)\n"
     ]
    },
    {
     "data": {
      "text/plain": [
       "(98.08508192246582, 98.41491807753418)"
      ]
     },
     "execution_count": 8,
     "metadata": {},
     "output_type": "execute_result"
    }
   ],
   "source": [
    "stats.norm.interval(alpha=0.99, loc=xbar, scale=sem)"
   ]
  },
  {
   "cell_type": "code",
   "execution_count": 9,
   "metadata": {},
   "outputs": [],
   "source": [
    "### EXERCISE 3###. The administrators for a hospital wished to estimate the average number of days required \n",
    "#for inpatient treatment of patients between the ages of 25 and 34.A random sample of 500 hospital patients \n",
    "#between these ages produced a mean and standard deviation equal to 5.4 and 3.1 days, respectively.\n",
    "\n",
    "#Construct a 95% confidence interval for the mean length of stay for the population of patients from which the sample was drawn.\n",
    "\n",
    "#(--Bir hastanenin yöneticileri, 25 ile 34 yaş arasındaki hastaların yatarak tedavileri için gereken ortalama gün sayısını \n",
    "# tahmin etmek istediler. Bu yaşlar arasında rastgele 500 hastane hastasından oluşan bir örneklem, \n",
    "# 5.4 ve 3.1 günlere eşit bir ortalama ve standart sapma üretti, sırasıyla.\n",
    "\n",
    "#Numunenin alındığı hasta popülasyonu için ortalama kalış süresi için %95'lik bir güven aralığı oluşturun)"
   ]
  },
  {
   "cell_type": "code",
   "execution_count": 10,
   "metadata": {},
   "outputs": [
    {
     "name": "stdout",
     "output_type": "stream",
     "text": [
      "0.13863621460498696\n"
     ]
    }
   ],
   "source": [
    "n = 500\n",
    "sigma= 3.1\n",
    "xbar= 5.4\n",
    "sem=sigma / np.sqrt(n)\n",
    "print(sem)"
   ]
  },
  {
   "cell_type": "code",
   "execution_count": 11,
   "metadata": {},
   "outputs": [
    {
     "name": "stderr",
     "output_type": "stream",
     "text": [
      "C:\\Users\\Tacettin\\AppData\\Local\\Temp\\ipykernel_16924\\1119135283.py:1: DeprecationWarning: Use of keyword argument `alpha` for method `interval` is deprecated. Use first positional argument or keyword argument `confidence` instead.\n",
      "  stats.t.interval(alpha=0.95,df=n-1, loc=xbar, scale=sem)\n"
     ]
    },
    {
     "data": {
      "text/plain": [
       "(5.127617354510309, 5.672382645489692)"
      ]
     },
     "execution_count": 11,
     "metadata": {},
     "output_type": "execute_result"
    }
   ],
   "source": [
    "stats.t.interval(alpha=0.95,df=n-1, loc=xbar, scale=sem)"
   ]
  },
  {
   "cell_type": "code",
   "execution_count": 12,
   "metadata": {},
   "outputs": [
    {
     "name": "stderr",
     "output_type": "stream",
     "text": [
      "C:\\Users\\Tacettin\\AppData\\Local\\Temp\\ipykernel_16924\\642248646.py:1: DeprecationWarning: Use of keyword argument `alpha` for method `interval` is deprecated. Use first positional argument or keyword argument `confidence` instead.\n",
      "  stats.norm.interval(alpha=0.95, loc=xbar, scale=sem)\n"
     ]
    },
    {
     "data": {
      "text/plain": [
       "(5.12827801242126, 5.67172198757874)"
      ]
     },
     "execution_count": 12,
     "metadata": {},
     "output_type": "execute_result"
    }
   ],
   "source": [
    "stats.norm.interval(alpha=0.95, loc=xbar, scale=sem)"
   ]
  },
  {
   "cell_type": "code",
   "execution_count": null,
   "metadata": {},
   "outputs": [],
   "source": []
  }
 ],
 "metadata": {
  "kernelspec": {
   "display_name": "Python 3.9.10 64-bit",
   "language": "python",
   "name": "python3"
  },
  "language_info": {
   "codemirror_mode": {
    "name": "ipython",
    "version": 3
   },
   "file_extension": ".py",
   "mimetype": "text/x-python",
   "name": "python",
   "nbconvert_exporter": "python",
   "pygments_lexer": "ipython3",
   "version": "3.9.10"
  },
  "orig_nbformat": 4,
  "vscode": {
   "interpreter": {
    "hash": "bfb7814bbe422ed3bd9b1ed1458be199b032c76b0066c8947dba443e19d39158"
   }
  }
 },
 "nbformat": 4,
 "nbformat_minor": 2
}
